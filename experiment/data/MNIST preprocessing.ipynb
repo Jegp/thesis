{
 "cells": [
  {
   "cell_type": "code",
   "execution_count": 7,
   "metadata": {},
   "outputs": [],
   "source": [
    "import mnist\n",
    "import codecs, json\n",
    "import matplotlib.pyplot as plt\n",
    "import skimage.transform as st\n",
    "\n",
    "%matplotlib inline"
   ]
  },
  {
   "cell_type": "code",
   "execution_count": 2,
   "metadata": {},
   "outputs": [],
   "source": [
    "train_images = mnist.train_images()\n",
    "train_labels = mnist.train_labels()\n",
    "\n",
    "test_images = mnist.test_images()\n",
    "test_labels = mnist.test_labels()"
   ]
  },
  {
   "cell_type": "code",
   "execution_count": 10,
   "metadata": {},
   "outputs": [],
   "source": [
    "def extract_01(images, labels):\n",
    "    images_new = []\n",
    "    labels_new = []\n",
    "    for i, l in enumerate(labels):\n",
    "        if l == 0 or l == 1:\n",
    "            resized_image = st.resize(images[i], (10, 10), anti_aliasing=True)\n",
    "            images_new.append(resized_image)\n",
    "            labels_new.append(labels[i])\n",
    "    return (images_new, labels_new)"
   ]
  },
  {
   "cell_type": "code",
   "execution_count": 11,
   "metadata": {},
   "outputs": [
    {
     "name": "stderr",
     "output_type": "stream",
     "text": [
      "/home/jens/.local/lib/python3.6/site-packages/skimage/transform/_warps.py:105: UserWarning: The default mode, 'constant', will be changed to 'reflect' in skimage 0.15.\n",
      "  warn(\"The default mode, 'constant', will be changed to 'reflect' in \"\n"
     ]
    }
   ],
   "source": [
    "(train_images_reduced, train_labels_reduced) = extract_01(train_images, train_labels)\n",
    "(test_images_reduced, test_labels_reduced) = extract_01(test_images, test_labels)"
   ]
  },
  {
   "cell_type": "code",
   "execution_count": 12,
   "metadata": {},
   "outputs": [],
   "source": [
    "def convert_to_poisson_rate(image):\n",
    "    return train_images_reduced[0].flatten() / 255 * 10"
   ]
  },
  {
   "cell_type": "code",
   "execution_count": 13,
   "metadata": {},
   "outputs": [],
   "source": [
    "train_images_poisson = [convert_to_poisson_rate(image) for image in train_images_reduced]\n",
    "test_images_poisson = [convert_to_poisson_rate(image) for image in test_images_reduced]"
   ]
  },
  {
   "cell_type": "code",
   "execution_count": 46,
   "metadata": {},
   "outputs": [],
   "source": [
    "def to_x_y(images, labels):\n",
    "    return [(images[i].tolist(), labels[i].tolist()) for i in range(len(labels))]"
   ]
  },
  {
   "cell_type": "code",
   "execution_count": 45,
   "metadata": {},
   "outputs": [],
   "source": [
    "def to_json(train, test, file):\n",
    "    codec = codecs.open(file, 'w+', encoding='utf-8')\n",
    "    return json.dump((train, test), codec)"
   ]
  },
  {
   "cell_type": "code",
   "execution_count": 47,
   "metadata": {},
   "outputs": [],
   "source": [
    "train = to_x_y(train_images_poisson, train_labels_reduced)\n",
    "test = to_x_y(test_images_poisson, test_labels_reduced)\n",
    "to_json(train, test, 'data_poisson.json')"
   ]
  },
  {
   "cell_type": "code",
   "execution_count": 48,
   "metadata": {},
   "outputs": [],
   "source": [
    "train = to_x_y(train_images_reduced, train_labels_reduced)\n",
    "test = to_x_y(test_images_reduced, test_labels_reduced)\n",
    "to_json(train, test, 'data_regular.json')"
   ]
  },
  {
   "cell_type": "code",
   "execution_count": 66,
   "metadata": {},
   "outputs": [
    {
     "name": "stdout",
     "output_type": "stream",
     "text": [
      "[0 1 1 ... 1 0 1]\n"
     ]
    }
   ],
   "source": [
    "with open('data_poisson.json', 'r') as f:\n",
    "    (train, test) = np.array(json.load(f))\n",
    "    print(np.array(train)[:,1])"
   ]
  }
 ],
 "metadata": {
  "kernelspec": {
   "display_name": "Python 3",
   "language": "python",
   "name": "python3"
  },
  "language_info": {
   "codemirror_mode": {
    "name": "ipython",
    "version": 3
   },
   "file_extension": ".py",
   "mimetype": "text/x-python",
   "name": "python",
   "nbconvert_exporter": "python",
   "pygments_lexer": "ipython3",
   "version": "3.6.4rc1"
  }
 },
 "nbformat": 4,
 "nbformat_minor": 2
}
