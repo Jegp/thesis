{
 "cells": [
  {
   "cell_type": "code",
   "execution_count": null,
   "metadata": {},
   "outputs": [],
   "source": [
    "import mnist\n",
    "from skimage.transform import resize\n",
    "import numpy as np\n",
    "import json\n",
    "import subprocess\n",
    "import tempfile\n",
    "import importlib \n",
    "import os\n",
    "import experiment"
   ]
  },
  {
   "cell_type": "code",
   "execution_count": null,
   "metadata": {},
   "outputs": [],
   "source": [
    "(X_train, y_train) = (mnist.train_images(), mnist.train_labels())\n",
    "(X_test, y_test) = (mnist.test_images(), mnist.test_labels())\n",
    "\n",
    "def one_hot(v):\n",
    "    z = np.zeros(10)\n",
    "    z[v] = 1\n",
    "    return z\n",
    "y = np.array([one_hot(x) for x in np.concatenate((y_train, y_test))])\n",
    "X = np.concatenate((X_train, X_test))\n",
    "X = np.array([x[2:26][2:26] for x in X])\n",
    "X = np.array([resize(x, (10, 10), anti_aliasing=True, mode='constant') for x in X])"
   ]
  },
  {
   "cell_type": "code",
   "execution_count": null,
   "metadata": {},
   "outputs": [],
   "source": [
    "import matplotlib.pyplot as plt\n",
    "%matplotlib inline\n",
    "plt.imshow(X[0])"
   ]
  },
  {
   "cell_type": "code",
   "execution_count": null,
   "metadata": {},
   "outputs": [],
   "source": [
    "X = X.reshape(-1, 100)\n",
    "X = X.astype(np.float64)\n",
    "y = y.astype(np.float64)"
   ]
  },
  {
   "cell_type": "code",
   "execution_count": null,
   "metadata": {},
   "outputs": [],
   "source": [
    "X.shape"
   ]
  },
  {
   "cell_type": "code",
   "execution_count": null,
   "metadata": {},
   "outputs": [],
   "source": [
    "# Compile and run Futhark MNIST network\n",
    "nand_dsl = 'Seq (Net 100 100) (Net 100 10)'\n",
    "a, w = experiment.compile_ann(nand_dsl).main(X, y)"
   ]
  },
  {
   "cell_type": "code",
   "execution_count": null,
   "metadata": {},
   "outputs": [],
   "source": [
    "a"
   ]
  },
  {
   "cell_type": "code",
   "execution_count": null,
   "metadata": {},
   "outputs": [],
   "source": [
    "np.save('parameters_mnist_seq', [x.get() for x in w.data])"
   ]
  },
  {
   "cell_type": "code",
   "execution_count": null,
   "metadata": {},
   "outputs": [],
   "source": [
    "# Compile and run parallel Futhark MNIST network\n",
    "nand_dsl = 'Seq (Seq (Net 100 20) (Par (Net 20 10) (Net 20 10))) (Net 20 10))'\n",
    "a, w = experiment.compile_ann(nand_dsl).main(X, y)"
   ]
  },
  {
   "cell_type": "code",
   "execution_count": null,
   "metadata": {},
   "outputs": [],
   "source": [
    "a"
   ]
  }
 ],
 "metadata": {
  "kernelspec": {
   "display_name": "Python 3",
   "language": "python",
   "name": "python3"
  },
  "language_info": {
   "codemirror_mode": {
    "name": "ipython",
    "version": 3
   },
   "file_extension": ".py",
   "mimetype": "text/x-python",
   "name": "python",
   "nbconvert_exporter": "python",
   "pygments_lexer": "ipython3",
   "version": "3.6.7"
  }
 },
 "nbformat": 4,
 "nbformat_minor": 2
}
